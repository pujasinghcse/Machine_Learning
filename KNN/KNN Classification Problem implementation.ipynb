{
 "cells": [
  {
   "cell_type": "markdown",
   "metadata": {},
   "source": [
    "# KNN (K NEAREST NEIGHBORS)"
   ]
  },
  {
   "cell_type": "code",
   "execution_count": 1,
   "metadata": {},
   "outputs": [],
   "source": [
    "# import libraries\n",
    "import numpy as np\n",
    "import matplotlib.pyplot as plt\n",
    "%matplotlib inline"
   ]
  },
  {
   "cell_type": "code",
   "execution_count": 9,
   "metadata": {},
   "outputs": [],
   "source": [
    "# Cluster creation\n",
    "mean_01 = np.array([0.0, 0.0])\n",
    "mean_02 = np.array([0., 9.])\n",
    "mean_03 = np.array([11., 11.])\n",
    "\n",
    "cov_01 = np.array([[3., 0.3],\n",
    "                  [0.3, 2.]])\n",
    "cov_02 = np.array([[2., 0.3],\n",
    "                  [0.3, 2.]])\n",
    "cov_03 = np.array([[4., 0.2],\n",
    "                  [0.2, 3.]])\n",
    "\n",
    "data_01 = np.random.multivariate_normal(mean_01, cov_01, 500)\n",
    "data_02 = np.random.multivariate_normal(mean_02, cov_02, 500)\n",
    "data_03 = np.random.multivariate_normal(mean_03, cov_03, 500)"
   ]
  },
  {
   "cell_type": "code",
   "execution_count": 30,
   "metadata": {},
   "outputs": [
    {
     "data": {
      "image/png": "[encoded data removed]",
      "text/plain": [
       "<Figure size 432x288 with 1 Axes>"
      ]
     },
     "metadata": {},
     "output_type": "display_data"
    }
   ],
   "source": [
    "# plotting clusters\n",
    "plt.figure(0)\n",
    "plt.scatter(data_01[:, 0], data_01[:, 1])\n",
    "plt.scatter(data_02[:, 0], data_02[:, 1])\n",
    "plt.scatter(data_03[:, 0], data_03[:, 1])\n",
    "plt.scatter(2, 3, c='r')\n",
    "plt.show()"
   ]
  },
  {
   "cell_type": "code",
   "execution_count": 12,
   "metadata": {},
   "outputs": [
    {
     "name": "stdout",
     "output_type": "stream",
     "text": [
      "(1500, 3)\n"
     ]
    }
   ],
   "source": [
    "label = np.zeros((1500,1))\n",
    "label[500:1000] = 1\n",
    "label[1000:] = 2\n",
    "data1 = np.concatenate((data_01, data_02, data_03), axis=0)\n",
    "data = np.concatenate((data1, label), axis=1)\n",
    "print data.shape"
   ]
  },
  {
   "cell_type": "code",
   "execution_count": 31,
   "metadata": {},
   "outputs": [],
   "source": [
    "def KNN(train, test, k=10):\n",
    "    def eucledian_distance(x1, x2):\n",
    "        return np.sqrt(((x1 - x2)**2).sum())\n",
    "    \n",
    "    # Calculating distances for each training data\n",
    "    dist = []\n",
    "    label = {0.0:'blue',\n",
    "            1.0:'yellow',\n",
    "            2.0:'green'}\n",
    "\n",
    "    for ix in range(train.shape[0]):\n",
    "        d = eucledian_distance(train[ix,:-1], test)\n",
    "        lab = train[ix, -1]\n",
    "        dist.append([d, lab])\n",
    "    \n",
    "    # Sorting the list of distances\n",
    "    d_sort = sorted(dist, key=lambda x:x[0])[:k][1]\n",
    "    \n",
    "    # Identifying the unique elements and frequency\n",
    "    d_unique = np.unique(d_sort, return_counts=True)\n",
    "    \n",
    "    # Getting the index with maximum number of arguments\n",
    "    index = np.argmax(d_unique[1])\n",
    "    \n",
    "    return label[d_unique[0][index]]"
   ]
  },
  {
   "cell_type": "code",
   "execution_count": 32,
   "metadata": {},
   "outputs": [
    {
     "name": "stdout",
     "output_type": "stream",
     "text": [
      "blue\n"
     ]
    }
   ],
   "source": [
    "test_data = [2., 3.]\n",
    "\n",
    "cls = KNN(data, test_data, k=10)\n",
    "print cls"
   ]
  },
  {
   "cell_type": "code",
   "execution_count": null,
   "metadata": {},
   "outputs": [],
   "source": []
  },
  {
   "cell_type": "code",
   "execution_count": null,
   "metadata": {},
   "outputs": [],
   "source": []
  },
  {
   "cell_type": "code",
   "execution_count": null,
   "metadata": {},
   "outputs": [],
   "source": []
  },
  {
   "cell_type": "code",
   "execution_count": null,
   "metadata": {},
   "outputs": [],
   "source": []
  }
 ],
 "metadata": {
  "kernelspec": {
   "display_name": "Python 2",
   "language": "python",
   "name": "python2"
  },
  "language_info": {
   "codemirror_mode": {
    "name": "ipython",
    "version": 2
   },
   "file_extension": ".py",
   "mimetype": "text/x-python",
   "name": "python",
   "nbconvert_exporter": "python",
   "pygments_lexer": "ipython2",
   "version": "2.7.15rc1"
  }
 },
 "nbformat": 4,
 "nbformat_minor": 2
}
