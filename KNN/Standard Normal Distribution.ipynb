{
 "cells": [
  {
   "cell_type": "markdown",
   "metadata": {},
   "source": [
    "Define a function to generate 3 objects (A,B,C) with probability of occurence as 0.3, 0.2 and 0.5 respectively when called."
   ]
  },
  {
   "cell_type": "code",
   "execution_count": 1,
   "metadata": {},
   "outputs": [],
   "source": [
    "# import libraries\n",
    "import numpy as np"
   ]
  },
  {
   "cell_type": "code",
   "execution_count": 10,
   "metadata": {},
   "outputs": [],
   "source": [
    "def rand_num_generator():\n",
    "    r = np.random.random()\n",
    "    if r<=0.3:\n",
    "        return 'A'\n",
    "    elif r<=0.5:\n",
    "        return 'B'\n",
    "    else:\n",
    "        return 'C'"
   ]
  },
  {
   "cell_type": "code",
   "execution_count": 11,
   "metadata": {},
   "outputs": [
    {
     "name": "stdout",
     "output_type": "stream",
     "text": [
      "0.301 0.181 0.518\n"
     ]
    }
   ],
   "source": [
    "N = 1000\n",
    "\n",
    "a, b, c = 0, 0, 0\n",
    "for x in range(N):\n",
    "    k = rand_num_generator()\n",
    "    if k == 'A':\n",
    "        a += 1\n",
    "    elif k == 'B':\n",
    "        b += 1\n",
    "    else:\n",
    "        c += 1\n",
    "        \n",
    "print a/float(N), b/float(N), c/float(N)"
   ]
  },
  {
   "cell_type": "code",
   "execution_count": null,
   "metadata": {},
   "outputs": [],
   "source": []
  },
  {
   "cell_type": "markdown",
   "metadata": {},
   "source": [
    "Making clusters"
   ]
  },
  {
   "cell_type": "code",
   "execution_count": 49,
   "metadata": {},
   "outputs": [
    {
     "name": "stdout",
     "output_type": "stream",
     "text": [
      "(500, 2) (500, 2)\n"
     ]
    }
   ],
   "source": [
    "mean_01 = np.array([0.0, 0.0])\n",
    "mean_02 = np.array([8.0, 10.0])\n",
    "\n",
    "cov_01 = np.array([[4., .1],\n",
    "                  [.1, 4.]])\n",
    "cov_02 = np.array([[4., 2.],\n",
    "                 [2., 4.]])\n",
    "\n",
    "data_01 = np.random.multivariate_normal(mean_01, cov_01, 500)\n",
    "data_02 = np.random.multivariate_normal(mean_02, cov_02, 500)\n",
    "print data_01.shape, data_02.shape"
   ]
  },
  {
   "cell_type": "code",
   "execution_count": 50,
   "metadata": {},
   "outputs": [],
   "source": [
    "import matplotlib.pyplot as plt\n",
    "%matplotlib inline"
   ]
  },
  {
   "cell_type": "code",
   "execution_count": 51,
   "metadata": {},
   "outputs": [
    {
     "data": {
      "image/png": "[encoded data removed]",
      "text/plain": [
       "<Figure size 432x288 with 1 Axes>"
      ]
     },
     "metadata": {},
     "output_type": "display_data"
    }
   ],
   "source": [
    "plt.figure(0)\n",
    "plt.scatter(data_01[:,0], data_01[:,1])\n",
    "plt.scatter(data_02[:,0], data_02[:,1])\n",
    "plt.show()"
   ]
  },
  {
   "cell_type": "code",
   "execution_count": null,
   "metadata": {},
   "outputs": [],
   "source": []
  }
 ],
 "metadata": {
  "kernelspec": {
   "display_name": "Python 2",
   "language": "python",
   "name": "python2"
  },
  "language_info": {
   "codemirror_mode": {
    "name": "ipython",
    "version": 2
   },
   "file_extension": ".py",
   "mimetype": "text/x-python",
   "name": "python",
   "nbconvert_exporter": "python",
   "pygments_lexer": "ipython2",
   "version": "2.7.15rc1"
  }
 },
 "nbformat": 4,
 "nbformat_minor": 2
}
